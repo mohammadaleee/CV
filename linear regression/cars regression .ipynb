{
 "cells": [
  {
   "cell_type": "code",
   "execution_count": null,
   "id": "e127b70f",
   "metadata": {},
   "outputs": [],
   "source": [
    "import pandas as pd\n",
    "import matplotlib.pyplot as plt\n",
    "import numpy as np \n",
    "from sklearn.linear_model import LinearRegression"
   ]
  },
  {
   "cell_type": "code",
   "execution_count": null,
   "id": "9b798aca",
   "metadata": {},
   "outputs": [],
   "source": [
    "cars_data = pd.read_csv('FuelConsumption.csv')"
   ]
  },
  {
   "cell_type": "code",
   "execution_count": null,
   "id": "bfdc08f0",
   "metadata": {},
   "outputs": [],
   "source": [
    "msk = np.random.rand(len(cars_data)) < 0.8\n",
    "train = cars_data[msk]\n",
    "test = cars_data[~msk]"
   ]
  },
  {
   "cell_type": "code",
   "execution_count": null,
   "id": "0600e73b",
   "metadata": {},
   "outputs": [],
   "source": [
    "x = train[['CYLINDERS','ENGINESIZE','FUELCONSUMPTION_COMB']]\n",
    "y = train[['CO2EMISSIONS']]\n",
    "main_model = LinearRegression()\n",
    "main_model.fit(x, y)\n",
    "print ('Coefficients: ', main_model.coef_)\n",
    "print ('intercept: ', main_model.intercept_)"
   ]
  },
  {
   "cell_type": "code",
   "execution_count": null,
   "id": "622521bd",
   "metadata": {},
   "outputs": [],
   "source": [
    "x_CYLINDERS = train[['CYLINDERS']]\n",
    "y_CYLINDERS = train[['CO2EMISSIONS']]\n",
    "CYLINDERS_model = LinearRegression()\n",
    "CYLINDERS_model.fit(x_CYLINDERS, y_CYLINDERS)\n",
    "print ('Coefficients: ', CYLINDERS_model.coef_)\n",
    "print ('intercept: ', CYLINDERS_model.intercept_)"
   ]
  },
  {
   "cell_type": "code",
   "execution_count": null,
   "id": "c281dac4",
   "metadata": {},
   "outputs": [],
   "source": [
    "x_ENGINESIZE = train[['ENGINESIZE']]\n",
    "y_ENGINESIZE = train[['CO2EMISSIONS']]\n",
    "ENGINESIZE_model = LinearRegression()\n",
    "ENGINESIZE_model.fit(x_ENGINESIZE, y_ENGINESIZE)\n",
    "print ('Coefficients: ', ENGINESIZE_model.coef_)\n",
    "print ('intercept: ', ENGINESIZE_model.intercept_)"
   ]
  },
  {
   "cell_type": "code",
   "execution_count": null,
   "id": "8504c6ba",
   "metadata": {},
   "outputs": [],
   "source": [
    "x_FUELCONSUMPTION_COMB = train[['FUELCONSUMPTION_COMB']]\n",
    "y_FUELCONSUMPTION_COMB = train[['CO2EMISSIONS']]\n",
    "FUELCONSUMPTION_COMB_model = LinearRegression()\n",
    "FUELCONSUMPTION_COMB_model.fit(x_FUELCONSUMPTION_COMB, y_FUELCONSUMPTION_COMB)\n",
    "print ('Coefficients: ', ENGINESIZE_model.coef_)\n",
    "print ('intercept: ', ENGINESIZE_model.intercept_)"
   ]
  },
  {
   "cell_type": "code",
   "execution_count": null,
   "id": "a368a3c5",
   "metadata": {},
   "outputs": [],
   "source": [
    "x_line1 = np.arange(2,13,0.1)\n",
    "x_line2 = np.arange(1,13-4,0.1)\n",
    "x_line3 = np.arange(4,30,0.1)"
   ]
  },
  {
   "cell_type": "code",
   "execution_count": null,
   "id": "8efe35a3",
   "metadata": {},
   "outputs": [],
   "source": [
    "eniginesize =float(input('The engine size?'))\n",
    "cylinders = int(input('The cylinder number?'))\n",
    "fuelconsumption_comb = float(input('fuelconsumption_comb'))"
   ]
  },
  {
   "cell_type": "code",
   "execution_count": null,
   "id": "f1fb0ef8",
   "metadata": {},
   "outputs": [],
   "source": [
    "predicted_co2 = main_model.predict([[eniginesize, cylinders , fuelconsumption_comb]])[0][0]\n",
    "predicted_co2"
   ]
  },
  {
   "cell_type": "code",
   "execution_count": null,
   "id": "667313e2",
   "metadata": {},
   "outputs": [],
   "source": [
    "y_hat= main_model.predict(test[['CYLINDERS','ENGINESIZE','FUELCONSUMPTION_COMB']])\n",
    "x_test = np.asanyarray(test[['CYLINDERS','ENGINESIZE','FUELCONSUMPTION_COMB']])\n",
    "y_test = np.asanyarray(test[['CO2EMISSIONS']])\n",
    "print(\"Residual sum of squares: %.2f\"\n",
    "      % np.mean((y_hat - y_test) ** 2))\n",
    "print('Variance score: %.2f' % main_model.score(x_test, y_test))"
   ]
  },
  {
   "cell_type": "code",
   "execution_count": null,
   "id": "1829c424",
   "metadata": {},
   "outputs": [],
   "source": [
    "plt.figure(figsize=[15,6])\n",
    "plt.subplot(231);plt.plot(x_line1,x_line1*CYLINDERS_model.coef_[0] + CYLINDERS_model.intercept_, color= 'r' )\n",
    "plt.subplot(232);plt.plot(x_line2,x_line2*ENGINESIZE_model.coef_[0] + ENGINESIZE_model.intercept_, color= 'r' );\n",
    "plt.subplot(233);plt.plot(x_line3,x_line3*FUELCONSUMPTION_COMB_model.coef_[0]+FUELCONSUMPTION_COMB_model.intercept_, color= 'r' );\n",
    "plt.subplot(231);plt.scatter(train.CYLINDERS, train.CO2EMISSIONS,  color='teal');plt.title('cylinders');\n",
    "plt.subplot(232);plt.scatter(train.ENGINESIZE, train.CO2EMISSIONS,  color='orchid');plt.title('engine  size');\n",
    "plt.subplot(233);plt.scatter(train.FUELCONSUMPTION_CITY, train.CO2EMISSIONS,  color='limegreen');plt.title('fuel consumption');"
   ]
  }
 ],
 "metadata": {
  "kernelspec": {
   "display_name": "Python 3",
   "language": "python",
   "name": "python3"
  },
  "language_info": {
   "codemirror_mode": {
    "name": "ipython",
    "version": 3
   },
   "file_extension": ".py",
   "mimetype": "text/x-python",
   "name": "python",
   "nbconvert_exporter": "python",
   "pygments_lexer": "ipython3",
   "version": "3.11.4"
  }
 },
 "nbformat": 4,
 "nbformat_minor": 5
}
